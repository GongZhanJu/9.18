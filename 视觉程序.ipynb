{
 "cells": [
  {
   "cell_type": "code",
   "execution_count": 244,
   "id": "f8ad25b6-f2d9-4134-9eda-7bef064c3aca",
   "metadata": {
    "tags": []
   },
   "outputs": [],
   "source": [
    "import json\n",
    "import os\n",
    "import requests\n",
    "import io\n",
    "import shutil\n",
    "import math\n",
    "import PIL\n",
    "import numpy as np\n",
    "import glob\n",
    "import shutil\n",
    "import PIL.Image as PImage\n",
    "from PIL import ImageEnhance\n",
    "from pprint import pprint\n",
    "from collections import Counter\n",
    "from datetime import datetime\n",
    "from PIL import Image, ImageOps, ImageEnhance\n",
    "from sklearn.model_selection import train_test_split"
   ]
  },
  {
   "cell_type": "code",
   "execution_count": 245,
   "id": "f3be85b9-d2c0-4089-b97a-8edab8755322",
   "metadata": {
    "tags": []
   },
   "outputs": [],
   "source": [
    "API_BASE_URL = 'http://fireeye-test-backend-container:9090/api/'\n",
    "TF_SERVING_BASE_URL = 'http://fireeye-test-model-container:8501/'\n",
    "task_id='1ac1e8a095df4611af387d9934799251'\n",
    "id_code_mapping = {\n",
    "    'dbee3deebc5444f5b011da4e5518752c': '0',\n",
    "    'edb4cb51d54644c08aa122d3f041bb0a': '1'}"
   ]
  },
  {
   "cell_type": "code",
   "execution_count": 246,
   "id": "1248907f-e39a-4607-8d96-ef1b69916438",
   "metadata": {
    "tags": []
   },
   "outputs": [
    {
     "name": "stdout",
     "output_type": "stream",
     "text": [
      "该图片数量： 318\n"
     ]
    }
   ],
   "source": [
    "num_images = requests.get(\n",
    "    url=API_BASE_URL+'image/count', \n",
    "    params=dict(\n",
    "        task_id=task_id,\n",
    "        has_truth=True\n",
    "    )\n",
    ").json()\n",
    "\n",
    "print('该图片数量：',num_images)"
   ]
  },
  {
   "cell_type": "code",
   "execution_count": 247,
   "id": "76012b3c-737d-4c1d-aa89-9ce2bc2387d0",
   "metadata": {
    "tags": []
   },
   "outputs": [],
   "source": [
    "def get_image_by_id(id):\n",
    "    r = requests.get(url=API_BASE_URL+'image/'+id)\n",
    "    if r.status_code == 200:\n",
    "        return PIL.Image.open(io.BytesIO(r.content))\n",
    "    else:\n",
    "        raise RuntimeError(r.text)\n",
    "#img = get_image_by_id(image_records[200]['id']) \n",
    "#img.show()"
   ]
  },
  {
   "cell_type": "code",
   "execution_count": 248,
   "id": "815320be-3292-4d22-99a6-1a2a4ea21dc5",
   "metadata": {
    "tags": []
   },
   "outputs": [],
   "source": [
    "import pprint\n",
    "\n",
    "def get_image_records(task_id):\n",
    "    resp = requests.get(\n",
    "        url=API_BASE_URL+'image', \n",
    "        params=dict(\n",
    "            task_id=task_id,\n",
    "            has_truth=True            \n",
    "        )\n",
    "    )\n",
    "    \n",
    "    if resp.status_code == 200:\n",
    "        return resp.json()\n",
    "    else:\n",
    "        raise RuntimeError(resp.text)\n",
    "    \n",
    "image_records=get_image_records(task_id)"
   ]
  },
  {
   "cell_type": "code",
   "execution_count": 254,
   "id": "daf50163-0543-472b-9772-87da7308b77e",
   "metadata": {
    "tags": []
   },
   "outputs": [],
   "source": [
    "def crop_white_border(img):\n",
    "    img_array = np.array(img)\n",
    "    non_white_rows = np.any(img_array < 255, axis=1)\n",
    "    non_white_columns = np.any(img_array < 255, axis=0)\n",
    "    row_min, row_max = np.where(non_white_rows)[0][[0, -1]]\n",
    "    col_min, col_max = np.where(non_white_columns)[0][[0, -1]]\n",
    "    cropped_img = img.crop((col_min, row_min, col_max, row_max))\n",
    "    return cropped_img"
   ]
  },
  {
   "cell_type": "code",
   "execution_count": 255,
   "id": "5589efab-7d3f-46e0-8117-7ed77e073224",
   "metadata": {
    "tags": []
   },
   "outputs": [],
   "source": [
    "def normalize_image(img: Image.Image) -> np.ndarray:\n",
    "    img_array = np.array(img)\n",
    "    return img_array / 255.0"
   ]
  },
  {
   "cell_type": "code",
   "execution_count": 256,
   "id": "c7ec39ab-51ba-4a14-a4de-a3c81ff2ae16",
   "metadata": {
    "tags": []
   },
   "outputs": [],
   "source": [
    "image_records = get_image_records(task_id)"
   ]
  },
  {
   "cell_type": "code",
   "execution_count": 257,
   "id": "c3d05648-952f-4c26-a4d9-8208438777d9",
   "metadata": {
    "tags": []
   },
   "outputs": [],
   "source": [
    "image_dir = \"./images\"\n",
    "category0_dir = os.path.join(image_dir, 'Category0')\n",
    "category1_dir = os.path.join(image_dir, 'Category1')\n",
    "if not os.path.exists(category0_dir):\n",
    "    os.makedirs(category0_dir)\n",
    "\n",
    "if not os.path.exists(category1_dir):\n",
    "    os.makedirs(category1_dir)"
   ]
  },
  {
   "cell_type": "code",
   "execution_count": 258,
   "id": "9cb9eca4-2400-4c2d-ad85-82bbe86450f1",
   "metadata": {
    "tags": []
   },
   "outputs": [],
   "source": [
    "for record in image_records:\n",
    "    try:\n",
    "        img = get_image_by_id(record['id'])\n",
    "        cropped_img = crop_white_border(img)\n",
    "        normalized_img_array = normalize_image(cropped_img)\n",
    "        normalized_img = PImage.fromarray((normalized_img_array * 255).astype(np.uint8))\n",
    "        truth_id = record['truth_id']\n",
    "        if id_code_mapping[truth_id] == '0':\n",
    "            file_path = os.path.join(category0_dir, f\"{record['id']}.png\")\n",
    "        else:\n",
    "            file_path = os.path.join(category1_dir, f\"{record['id']}.png\")\n",
    "        normalized_img.save(file_path, 'PNG')\n",
    "    except Exception as e:\n",
    "        print(f'Error processing image {record[\"id\"]}. Error: {e}')"
   ]
  },
  {
   "cell_type": "code",
   "execution_count": 259,
   "id": "63eaeddc-6cb4-43cf-929b-6b2e6eb7dfc3",
   "metadata": {
    "tags": []
   },
   "outputs": [],
   "source": [
    "def download_image(image_id):\n",
    "    response = requests.get(f\"{API_BASE_URL}image/download/{image_id}\")\n",
    "    return response.content"
   ]
  },
  {
   "cell_type": "code",
   "execution_count": 260,
   "id": "8b3d7590-2639-4a6e-ad1f-35803fbc8cc7",
   "metadata": {
    "tags": []
   },
   "outputs": [],
   "source": [
    "def crop_white_border(img, threshold=240):\n",
    "    img_array = np.array(img)\n",
    "    non_white_rows = np.any(img_array < threshold, axis=(1, 2))\n",
    "    non_white_columns = np.any(img_array < threshold, axis=(0, 2))\n",
    "    row_min, row_max = np.where(non_white_rows)[0][[0, -1]]\n",
    "    col_min, col_max = np.where(non_white_columns)[0][[0, -1]]\n",
    "    cropped_img = img.crop((col_min, row_min, col_max, row_max))\n",
    "    return cropped_img"
   ]
  },
  {
   "cell_type": "code",
   "execution_count": 261,
   "id": "d55601c5-7dab-4c51-8705-d1b8754423bd",
   "metadata": {
    "tags": []
   },
   "outputs": [],
   "source": [
    "def vertical_flip(img: Image.Image) -> Image.Image:\n",
    "    return ImageOps.flip(img)"
   ]
  },
  {
   "cell_type": "code",
   "execution_count": 262,
   "id": "f45fa63d-790e-4a4d-8957-38d0ee14f1ed",
   "metadata": {
    "tags": []
   },
   "outputs": [],
   "source": [
    "def horizontal_flip(img: Image.Image) -> Image.Image:\n",
    "    return ImageOps.mirror(img)"
   ]
  },
  {
   "cell_type": "code",
   "execution_count": 268,
   "id": "91c605f9-9426-454e-9404-7905b39fc988",
   "metadata": {
    "tags": []
   },
   "outputs": [],
   "source": [
    "import shutil\n",
    "\n",
    "\n",
    "train_dir = './train_images'\n",
    "test_dir = './test_images'\n",
    "val_dir = './val_images'\n",
    "\n",
    "for dir_path in [train_dir, test_dir, val_dir]:\n",
    "    if not os.path.exists(dir_path):\n",
    "        os.makedirs(dir_path)\n",
    "\n",
    "\n",
    "all_images = [os.path.join(category0_dir, f'{record[\"id\"]}.png') for record in image_records if id_code_mapping[record[\"truth_id\"]] == \"0\"] +\\\n",
    "             [os.path.join(category1_dir, f'{record[\"id\"]}.png') for record in image_records if id_code_mapping[record[\"truth_id\"]] == \"1\"]\n",
    "\n",
    "labels = [id_code_mapping[record['truth_id']] for record in image_records]\n",
    "\n",
    "train_images, test_images, train_labels, test_labels= train_test_split(all_images, labels, test_size=0.2, random_state=42)\n",
    "train_images, val_images, train_labels, val_labels = train_test_split(train_images, train_labels, test_size=0.2, random_state=42)\n",
    "\n",
    "for img_path in train_images:\n",
    "    shutil.move(img_path, train_dir)\n",
    "for img_path in test_images:\n",
    "    shutil.move(img_path, test_dir)\n",
    "for img_path in val_images:\n",
    "    shutil.move(img_path, val_dir)\n"
   ]
  },
  {
   "cell_type": "code",
   "execution_count": 273,
   "id": "6f48799a-8d7c-47f9-a68b-aec73afb3bc1",
   "metadata": {
    "tags": []
   },
   "outputs": [
    {
     "name": "stdout",
     "output_type": "stream",
     "text": [
      "Data augmentation for teh training set is complete.\n"
     ]
    }
   ],
   "source": [
    "import os\n",
    "from PIL import Image\n",
    "\n",
    "\n",
    "train_dir = './test_images/'\n",
    "\n",
    "for filename in os.listdir(train_dir):\n",
    "    if filename.endswith(\".png\"):\n",
    "        img_path = os.path.join(train_dir, filename)\n",
    "        img = Image.open(img_path)\n",
    "\n",
    "        jittered_img = color_jitter(img)\n",
    "        jittered_filename = \"jittered_\" + filename\n",
    "        jittered_img.save(os.path.join(train_dir, jittered_filename))\n",
    "\n",
    "        v_flipped_img = vertical_flip(img)\n",
    "        vflipped_filename = \"vflipped_\" + filename\n",
    "        v_flipped_img.save(os.path.join(train_dir, vflipped_filename))\n",
    "\n",
    "        h_flipped_img = horizontal_flip(img)\n",
    "        hflipped_fliename = \"hflipped_\" + filename\n",
    "        h_flipped_img.save(os.path.join(train_dir, hflipped_fliename))\n",
    "\n",
    "print('Data augmentation for teh training set is complete.')"
   ]
  },
  {
   "cell_type": "code",
   "execution_count": null,
   "id": "1d3b3da6-5d75-4cfc-b330-2a488e389de7",
   "metadata": {},
   "outputs": [],
   "source": []
  },
  {
   "cell_type": "code",
   "execution_count": null,
   "id": "390dc6df-229b-48d5-9645-b5f582fe8ca8",
   "metadata": {},
   "outputs": [],
   "source": []
  }
 ],
 "metadata": {
  "kernelspec": {
   "display_name": "Python 3 (ipykernel)",
   "language": "python",
   "name": "python3"
  },
  "language_info": {
   "codemirror_mode": {
    "name": "ipython",
    "version": 3
   },
   "file_extension": ".py",
   "mimetype": "text/x-python",
   "name": "python",
   "nbconvert_exporter": "python",
   "pygments_lexer": "ipython3",
   "version": "3.7.13"
  }
 },
 "nbformat": 4,
 "nbformat_minor": 5
}
